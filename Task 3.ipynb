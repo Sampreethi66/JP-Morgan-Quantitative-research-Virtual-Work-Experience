{
 "cells": [
  {
   "cell_type": "code",
   "execution_count": 1,
   "id": "aeb00f13-b8e2-45e9-a1dd-92a7b779a6e2",
   "metadata": {},
   "outputs": [],
   "source": [
    "import pandas as pd\n",
    "import numpy as np\n",
    "import matplotlib.pyplot as plt\n",
    "import seaborn as sns\n",
    "from sklearn.model_selection import train_test_split\n",
    "from sklearn.preprocessing import StandardScaler\n",
    "from sklearn.linear_model import LogisticRegression\n",
    "from sklearn.tree import DecisionTreeClassifier\n",
    "from sklearn.metrics import accuracy_score, precision_score, recall_score, roc_auc_score"
   ]
  },
  {
   "cell_type": "code",
   "execution_count": 11,
   "id": "a91eeaf7-daab-4e2c-a44c-a62b3cb2e7de",
   "metadata": {},
   "outputs": [],
   "source": [
    "df = pd.read_csv('Task 3 and 4_Loan_Data.csv')\n",
    "X = df.drop(columns=['customer_id', 'default'])\n",
    "y = df['default']"
   ]
  },
  {
   "cell_type": "code",
   "execution_count": 12,
   "id": "7158a0de-61d7-428d-a394-7a3bc9c75c12",
   "metadata": {},
   "outputs": [
    {
     "name": "stdout",
     "output_type": "stream",
     "text": [
      "<class 'pandas.core.frame.DataFrame'>\n",
      "RangeIndex: 10000 entries, 0 to 9999\n",
      "Data columns (total 8 columns):\n",
      " #   Column                    Non-Null Count  Dtype  \n",
      "---  ------                    --------------  -----  \n",
      " 0   customer_id               10000 non-null  int64  \n",
      " 1   credit_lines_outstanding  10000 non-null  int64  \n",
      " 2   loan_amt_outstanding      10000 non-null  float64\n",
      " 3   total_debt_outstanding    10000 non-null  float64\n",
      " 4   income                    10000 non-null  float64\n",
      " 5   years_employed            10000 non-null  int64  \n",
      " 6   fico_score                10000 non-null  int64  \n",
      " 7   default                   10000 non-null  int64  \n",
      "dtypes: float64(3), int64(5)\n",
      "memory usage: 625.1 KB\n",
      "   customer_id  credit_lines_outstanding  loan_amt_outstanding  \\\n",
      "0      8153374                         0           5221.545193   \n",
      "1      7442532                         5           1958.928726   \n",
      "2      2256073                         0           3363.009259   \n",
      "3      4885975                         0           4766.648001   \n",
      "4      4700614                         1           1345.827718   \n",
      "\n",
      "   total_debt_outstanding       income  years_employed  fico_score  default  \n",
      "0             3915.471226  78039.38546               5         605        0  \n",
      "1             8228.752520  26648.43525               2         572        1  \n",
      "2             2027.830850  65866.71246               4         602        0  \n",
      "3             2501.730397  74356.88347               5         612        0  \n",
      "4             1768.826187  23448.32631               6         631        0  \n"
     ]
    }
   ],
   "source": [
    "# Display basic info\n",
    "df.info()\n",
    "print(df.head())\n"
   ]
  },
  {
   "cell_type": "code",
   "execution_count": 13,
   "id": "9e87d3ec-aacd-4e30-95ad-ddfd30279a10",
   "metadata": {},
   "outputs": [],
   "source": [
    "df.dropna(inplace=True)"
   ]
  },
  {
   "cell_type": "code",
   "execution_count": 14,
   "id": "93657cd3-a366-46c7-89e2-81434e6fcd3c",
   "metadata": {},
   "outputs": [],
   "source": [
    "# Normalize numerical features\n",
    "scaler = StandardScaler()\n",
    "X_scaled = scaler.fit_transform(X)\n",
    "\n",
    "# Train-test split (80% train, 20% test)\n",
    "X_train, X_test, y_train, y_test = train_test_split(X_scaled, y, test_size=0.2, random_state=42)\n"
   ]
  },
  {
   "cell_type": "code",
   "execution_count": 15,
   "id": "3ed7a586-d5fa-44d1-987d-45c413b1f72f",
   "metadata": {},
   "outputs": [],
   "source": [
    "# Train Logistic Regression Model\n",
    "log_reg = LogisticRegression()\n",
    "log_reg.fit(X_train, y_train)\n",
    "y_pred_log = log_reg.predict(X_test)\n",
    "y_prob_log = log_reg.predict_proba(X_test)[:, 1]  # Get probability scores\n"
   ]
  },
  {
   "cell_type": "code",
   "execution_count": 16,
   "id": "cfdce470-ccf8-4285-8448-17e4417255c4",
   "metadata": {},
   "outputs": [],
   "source": [
    "# Train Decision Tree Model\n",
    "dec_tree = DecisionTreeClassifier(max_depth=4)\n",
    "dec_tree.fit(X_train, y_train)\n",
    "y_pred_tree = dec_tree.predict(X_test)\n",
    "y_prob_tree = dec_tree.predict_proba(X_test)[:, 1]\n"
   ]
  },
  {
   "cell_type": "code",
   "execution_count": 17,
   "id": "05247a72-cbed-4720-ac12-8c9d26bf0899",
   "metadata": {},
   "outputs": [
    {
     "name": "stdout",
     "output_type": "stream",
     "text": [
      "\n",
      "--- Logistic Regression Performance ---\n",
      "Accuracy: 0.9960\n",
      "Precision: 0.9971\n",
      "Recall: 0.9799\n",
      "AUC Score: 1.0000\n",
      "\n",
      "--- Decision Tree Performance ---\n",
      "Accuracy: 0.9935\n",
      "Precision: 0.9855\n",
      "Recall: 0.9770\n",
      "AUC Score: 0.9995\n"
     ]
    }
   ],
   "source": [
    "# Performance Evaluation\n",
    "def evaluate_model(y_true, y_pred, y_prob, model_name):\n",
    "    print(f\"\\n--- {model_name} Performance ---\")\n",
    "    print(f\"Accuracy: {accuracy_score(y_true, y_pred):.4f}\")\n",
    "    print(f\"Precision: {precision_score(y_true, y_pred):.4f}\")\n",
    "    print(f\"Recall: {recall_score(y_true, y_pred):.4f}\")\n",
    "    print(f\"AUC Score: {roc_auc_score(y_true, y_prob):.4f}\")\n",
    "\n",
    "evaluate_model(y_test, y_pred_log, y_prob_log, \"Logistic Regression\")\n",
    "evaluate_model(y_test, y_pred_tree, y_prob_tree, \"Decision Tree\")\n"
   ]
  },
  {
   "cell_type": "code",
   "execution_count": 19,
   "id": "af59854c-5704-407b-b221-186d359a06b5",
   "metadata": {},
   "outputs": [],
   "source": [
    "# Function to predict PD and Expected Loss\n",
    "def predict_default(loan_details, model, scaler, recovery_rate=0.1):\n",
    "    loan_array = np.array(loan_details).reshape(1, -1)\n",
    "    loan_scaled = scaler.transform(loan_array)\n",
    "    pd_score = model.predict_proba(loan_scaled)[:, 1][0]  # Probability of Default\n",
    "    expected_loss = pd_score * (1 - recovery_rate) * loan_details[1]  # Loan Amount at risk\n",
    "    return round(pd_score, 4), round(expected_loss, 2)\n",
    "\n"
   ]
  },
  {
   "cell_type": "code",
   "execution_count": 21,
   "id": "e6f9fd15-5012-45a7-977f-a565400b1628",
   "metadata": {},
   "outputs": [
    {
     "name": "stdout",
     "output_type": "stream",
     "text": [
      "\n",
      "Predicted Probability of Default: 1.0\n",
      "Expected Loss: $-75000.0\n"
     ]
    },
    {
     "name": "stderr",
     "output_type": "stream",
     "text": [
      "C:\\ProgramData\\anaconda3\\Lib\\site-packages\\sklearn\\base.py:493: UserWarning: X does not have valid feature names, but StandardScaler was fitted with feature names\n",
      "  warnings.warn(\n"
     ]
    }
   ],
   "source": [
    "# Example Loan: Adjusted dynamically based on feature count\n",
    "feature_count = X.shape[1]\n",
    "sample_loan = [55000, 15000] + [1] * (feature_count - 2)  # Adjusted to match dataset features\n",
    "\n",
    "pd_score, expected_loss = predict_default(sample_loan, log_reg, scaler, feature_count)\n",
    "\n",
    "print(f\"\\nPredicted Probability of Default: {pd_score}\")\n",
    "print(f\"Expected Loss: ${expected_loss}\")\n"
   ]
  },
  {
   "cell_type": "code",
   "execution_count": null,
   "id": "2053def7-dbbe-4e72-bcbc-e14ac6ff0d27",
   "metadata": {},
   "outputs": [],
   "source": []
  }
 ],
 "metadata": {
  "kernelspec": {
   "display_name": "Python 3 (ipykernel)",
   "language": "python",
   "name": "python3"
  },
  "language_info": {
   "codemirror_mode": {
    "name": "ipython",
    "version": 3
   },
   "file_extension": ".py",
   "mimetype": "text/x-python",
   "name": "python",
   "nbconvert_exporter": "python",
   "pygments_lexer": "ipython3",
   "version": "3.12.7"
  }
 },
 "nbformat": 4,
 "nbformat_minor": 5
}
