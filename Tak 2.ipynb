{
 "cells": [
  {
   "cell_type": "code",
   "execution_count": 1,
   "id": "6439fe65-22bc-417a-9652-b4270ee2714b",
   "metadata": {},
   "outputs": [
    {
     "name": "stdout",
     "output_type": "stream",
     "text": [
      "<class 'type'>\n"
     ]
    }
   ],
   "source": [
    "print(type(int))"
   ]
  },
  {
   "cell_type": "code",
   "execution_count": 2,
   "id": "ca59c88e-452f-462f-adcc-ab75bc285b9c",
   "metadata": {},
   "outputs": [],
   "source": [
    "int_value = 10"
   ]
  },
  {
   "cell_type": "code",
   "execution_count": 3,
   "id": "6ec1fca0-3373-443a-834d-1bbca76600a8",
   "metadata": {},
   "outputs": [
    {
     "name": "stdin",
     "output_type": "stream",
     "text": [
      "How many MMBtu of natural gas do you want to buy?:  1\n"
     ]
    }
   ],
   "source": [
    "MMBtu = int(float(input(\"How many MMBtu of natural gas do you want to buy?: \")))\n"
   ]
  },
  {
   "cell_type": "code",
   "execution_count": 8,
   "id": "5a22529a-5e62-4d1b-adb3-a36b28814ad5",
   "metadata": {},
   "outputs": [
    {
     "name": "stdin",
     "output_type": "stream",
     "text": [
      "How many MMBtu of natural gas do you want to buy?:  1\n"
     ]
    },
    {
     "name": "stdout",
     "output_type": "stream",
     "text": [
      "\n",
      "Enter an injection date between 10/31/2020 and 10/31/2025:\n"
     ]
    },
    {
     "name": "stdin",
     "output_type": "stream",
     "text": [
      "Enter year:  2021\n",
      "Enter month:  2\n",
      "Enter day:  1\n"
     ]
    },
    {
     "name": "stdout",
     "output_type": "stream",
     "text": [
      "\n",
      "Enter a withdrawal date after 2/1/2021 up to 10/31/2025:\n"
     ]
    },
    {
     "name": "stdin",
     "output_type": "stream",
     "text": [
      "Enter year:  2023\n",
      "Enter month:  1\n",
      "Enter day:  1\n"
     ]
    },
    {
     "name": "stdout",
     "output_type": "stream",
     "text": [
      "\n",
      "Purchase price on 2/1/2021: $11.0\n",
      "Selling price on 1/1/2023: $11.6\n",
      "Total Purchase Cost: $11000.0k\n",
      "Total Selling Revenue: $11600.0k\n",
      "Injection & Withdrawal Cost: $20k\n",
      "Storage Cost for 24 months: $240k\n",
      "\n",
      "Transportation cost: $100k\n",
      "\n",
      "Total Profit: $240.0k\n"
     ]
    }
   ],
   "source": [
    "import matplotlib.pyplot as plt\n",
    "import numpy as np\n",
    "import pandas as pd\n",
    "\n",
    "# Load the dataset\n",
    "file_path = \"Nat_Gas.xlsx\"  # Use CSV if necessary: \"Nat_Gas.csv\"\n",
    "df = pd.read_excel(file_path, parse_dates=['Dates'])\n",
    "\n",
    "# Extract dates and prices from the DataFrame\n",
    "dates = df['Dates'].tolist()\n",
    "prices = df['Prices'].astype(float).tolist()\n",
    "\n",
    "# Function to find price using interpolation\n",
    "def natGasPrice(find, day):\n",
    "    lower = allprices[find]\n",
    "    upper = allprices[find + 1]\n",
    "    return np.interp(day, [0, 30.5], [lower, upper])  # 30.5 avg days per month\n",
    "\n",
    "# Function to convert date to index\n",
    "def findDate(month, day, year):\n",
    "    find = 0\n",
    "    for i in range(year - 2021):\n",
    "        find += 12\n",
    "    find += month\n",
    "    return find if year != 2020 else (0 if month == 10 else (1 if month == 11 else 2))\n",
    "\n",
    "# Ask for gas volume input\n",
    "MMBtu = int(float(input(\"How many MMBtu of natural gas do you want to buy?: \")))\n",
    "\n",
    "# Get injection date\n",
    "while True:\n",
    "    print(\"\\nEnter an injection date between 10/31/2020 and 10/31/2025:\")\n",
    "    yearinj = int(input(\"Enter year: \"))\n",
    "    monthinj = int(input(\"Enter month: \"))\n",
    "    dayinj = int(input(\"Enter day: \"))\n",
    "    \n",
    "    if (2020 <= yearinj <= 2025) and (1 <= monthinj <= 12) and (1 <= dayinj <= 31):\n",
    "        break\n",
    "    else:\n",
    "        print(\"\\nInvalid date. Try again.\")\n",
    "\n",
    "# Get withdrawal date\n",
    "while True:\n",
    "    print(f\"\\nEnter a withdrawal date after {monthinj}/{dayinj}/{yearinj} up to 10/31/2025:\")\n",
    "    yearwith = int(input(\"Enter year: \"))\n",
    "    monthwith = int(input(\"Enter month: \"))\n",
    "    daywith = int(input(\"Enter day: \"))\n",
    "    \n",
    "    if (2020 <= yearwith <= 2025) and (1 <= monthwith <= 12) and (1 <= daywith <= 31) and findDate(monthwith, daywith, yearwith) > findDate(monthinj, dayinj, yearinj):\n",
    "        break\n",
    "    else:\n",
    "        print(\"\\nInvalid date. Must be after injection date.\")\n",
    "\n",
    "# Convert data into arrays\n",
    "num_years = len(prices) // 12  # Total years in dataset\n",
    "larray = np.array(prices[: num_years * 12]).reshape(num_years, 12)  # Reshape prices into years × months\n",
    "\n",
    "# Compute monthly price changes\n",
    "avgmonth = np.zeros((12, 3))\n",
    "for i in range(12):\n",
    "    if num_years >= 4:\n",
    "        avgmonth[i] = np.diff(larray[-4:, i])  # Extract last 4 years of monthly prices\n",
    "    else:\n",
    "        avgmonth[i][: num_years - 1] = np.diff(larray[:, i])  # Use available years\n",
    "\n",
    "# Compute extrapolated prices\n",
    "extprices = prices[-12:]\n",
    "for i in range(12):\n",
    "    extprices[i] += np.mean(avgmonth[i][: num_years - 1])  # Use only valid years\n",
    "\n",
    "# Calculate total costs and profits\n",
    "MMBtuPrice = MMBtu * 1000  # Convert to price per thousand\n",
    "allprices = np.concatenate((prices, extprices))  # Append extrapolated prices\n",
    "\n",
    "# Get date indexes\n",
    "foundDateInj = findDate(monthinj, dayinj, yearinj)\n",
    "foundDateWith = findDate(monthwith, daywith, yearwith)\n",
    "\n",
    "# Compute prices\n",
    "injPrice = round(natGasPrice(foundDateInj, dayinj), 2)\n",
    "withPrice = round(natGasPrice(foundDateWith, daywith), 2)\n",
    "\n",
    "# Compute total costs\n",
    "injPriceTot = round(injPrice * MMBtuPrice, 3)\n",
    "withPriceTot = round(withPrice * MMBtuPrice, 3)\n",
    "extractionPrice = MMBtu * 10 * 2  # Injection & withdrawal\n",
    "storageTime = foundDateWith - foundDateInj + 1\n",
    "storageTimePrice = storageTime * 10  # Cost per month\n",
    "\n",
    "# Display results\n",
    "print(f\"\\nPurchase price on {monthinj}/{dayinj}/{yearinj}: ${injPrice}\")\n",
    "print(f\"Selling price on {monthwith}/{daywith}/{yearwith}: ${withPrice}\")\n",
    "print(f\"Total Purchase Cost: ${injPriceTot}k\")\n",
    "print(f\"Total Selling Revenue: ${withPriceTot}k\")\n",
    "print(f\"Injection & Withdrawal Cost: ${extractionPrice}k\")\n",
    "print(f\"Storage Cost for {storageTime} months: ${storageTimePrice}k\")\n",
    "print(\"\\nTransportation cost: $100k\")\n",
    "\n",
    "# Compute total profit\n",
    "totalProfit = round(withPriceTot - injPriceTot - storageTimePrice - 100 - extractionPrice, 3)\n",
    "print(f\"\\nTotal Profit: ${totalProfit}k\")\n"
   ]
  },
  {
   "cell_type": "code",
   "execution_count": null,
   "id": "6343fa3e-8a72-4df5-8922-96e6b4c9a715",
   "metadata": {},
   "outputs": [],
   "source": []
  }
 ],
 "metadata": {
  "kernelspec": {
   "display_name": "Python 3 (ipykernel)",
   "language": "python",
   "name": "python3"
  },
  "language_info": {
   "codemirror_mode": {
    "name": "ipython",
    "version": 3
   },
   "file_extension": ".py",
   "mimetype": "text/x-python",
   "name": "python",
   "nbconvert_exporter": "python",
   "pygments_lexer": "ipython3",
   "version": "3.12.7"
  }
 },
 "nbformat": 4,
 "nbformat_minor": 5
}
